{
 "cells": [
  {
   "cell_type": "markdown",
   "id": "a17dba5b-1070-43e7-9b8c-2b6f25fcd61f",
   "metadata": {},
   "source": [
    "# COMPARATIVE ROAD NETWORK ANALYSIS USING NEO4J"
   ]
  },
  {
   "cell_type": "markdown",
   "id": "561da7cf-bd08-4026-bb55-4943b74d233d",
   "metadata": {},
   "source": [
    "## TASK 1: Listing Roads from/to a Specific City with Distances and Destinations"
   ]
  },
  {
   "cell_type": "code",
   "execution_count": 70,
   "id": "40729be2-3a08-44db-a113-1a784e851d03",
   "metadata": {},
   "outputs": [],
   "source": [
    "from neo4j import GraphDatabase\n",
    "import pandas as pd\n",
    "\n",
    "uri = \"bolt://localhost:7687\"                                                             # Neo4j connection details\n",
    "username = \"neo4j\"\n",
    "password = \"#Jzee2019\"\n",
    "\n",
    "driver = GraphDatabase.driver(uri, auth=(username, password))                             # Initialize the Neo4j driver"
   ]
  },
  {
   "cell_type": "code",
   "execution_count": 71,
   "id": "812f64f1-c385-4583-9a1d-f89cd71cd116",
   "metadata": {},
   "outputs": [
    {
     "data": {
      "text/html": [
       "<div>\n",
       "<style scoped>\n",
       "    .dataframe tbody tr th:only-of-type {\n",
       "        vertical-align: middle;\n",
       "    }\n",
       "\n",
       "    .dataframe tbody tr th {\n",
       "        vertical-align: top;\n",
       "    }\n",
       "\n",
       "    .dataframe thead th {\n",
       "        text-align: right;\n",
       "    }\n",
       "</style>\n",
       "<table border=\"1\" class=\"dataframe\">\n",
       "  <thead>\n",
       "    <tr style=\"text-align: right;\">\n",
       "      <th></th>\n",
       "      <th>FromCity</th>\n",
       "      <th>ToCity</th>\n",
       "      <th>Distance</th>\n",
       "    </tr>\n",
       "  </thead>\n",
       "  <tbody>\n",
       "    <tr>\n",
       "      <th>0</th>\n",
       "      <td>Atlanta</td>\n",
       "      <td>Santa Ana</td>\n",
       "      <td>139</td>\n",
       "    </tr>\n",
       "    <tr>\n",
       "      <th>1</th>\n",
       "      <td>Atlanta</td>\n",
       "      <td>Ankeny</td>\n",
       "      <td>920</td>\n",
       "    </tr>\n",
       "    <tr>\n",
       "      <th>2</th>\n",
       "      <td>Atlanta</td>\n",
       "      <td>Paramount</td>\n",
       "      <td>471</td>\n",
       "    </tr>\n",
       "    <tr>\n",
       "      <th>3</th>\n",
       "      <td>Atlanta</td>\n",
       "      <td>Fullerton</td>\n",
       "      <td>468</td>\n",
       "    </tr>\n",
       "    <tr>\n",
       "      <th>4</th>\n",
       "      <td>Atlanta</td>\n",
       "      <td>Rogers</td>\n",
       "      <td>493</td>\n",
       "    </tr>\n",
       "    <tr>\n",
       "      <th>5</th>\n",
       "      <td>Atlanta</td>\n",
       "      <td>Billings</td>\n",
       "      <td>201</td>\n",
       "    </tr>\n",
       "    <tr>\n",
       "      <th>6</th>\n",
       "      <td>Atlanta</td>\n",
       "      <td>Tallahassee</td>\n",
       "      <td>764</td>\n",
       "    </tr>\n",
       "    <tr>\n",
       "      <th>7</th>\n",
       "      <td>Atlanta</td>\n",
       "      <td>Minneapolis</td>\n",
       "      <td>819</td>\n",
       "    </tr>\n",
       "    <tr>\n",
       "      <th>8</th>\n",
       "      <td>Atlanta</td>\n",
       "      <td>North Richland Hills</td>\n",
       "      <td>519</td>\n",
       "    </tr>\n",
       "    <tr>\n",
       "      <th>9</th>\n",
       "      <td>Burbank</td>\n",
       "      <td>Atlanta</td>\n",
       "      <td>673</td>\n",
       "    </tr>\n",
       "    <tr>\n",
       "      <th>10</th>\n",
       "      <td>North Lauderdale</td>\n",
       "      <td>Atlanta</td>\n",
       "      <td>325</td>\n",
       "    </tr>\n",
       "    <tr>\n",
       "      <th>11</th>\n",
       "      <td>Long Beach</td>\n",
       "      <td>Atlanta</td>\n",
       "      <td>382</td>\n",
       "    </tr>\n",
       "    <tr>\n",
       "      <th>12</th>\n",
       "      <td>Marysville</td>\n",
       "      <td>Atlanta</td>\n",
       "      <td>450</td>\n",
       "    </tr>\n",
       "    <tr>\n",
       "      <th>13</th>\n",
       "      <td>Boise</td>\n",
       "      <td>Atlanta</td>\n",
       "      <td>660</td>\n",
       "    </tr>\n",
       "    <tr>\n",
       "      <th>14</th>\n",
       "      <td>Hagerstown</td>\n",
       "      <td>Atlanta</td>\n",
       "      <td>236</td>\n",
       "    </tr>\n",
       "    <tr>\n",
       "      <th>15</th>\n",
       "      <td>Middletown</td>\n",
       "      <td>Atlanta</td>\n",
       "      <td>404</td>\n",
       "    </tr>\n",
       "    <tr>\n",
       "      <th>16</th>\n",
       "      <td>Mission Viejo</td>\n",
       "      <td>Atlanta</td>\n",
       "      <td>597</td>\n",
       "    </tr>\n",
       "    <tr>\n",
       "      <th>17</th>\n",
       "      <td>Dearborn</td>\n",
       "      <td>Atlanta</td>\n",
       "      <td>190</td>\n",
       "    </tr>\n",
       "    <tr>\n",
       "      <th>18</th>\n",
       "      <td>Bayonne</td>\n",
       "      <td>Atlanta</td>\n",
       "      <td>413</td>\n",
       "    </tr>\n",
       "  </tbody>\n",
       "</table>\n",
       "</div>"
      ],
      "text/plain": [
       "            FromCity                ToCity  Distance\n",
       "0            Atlanta             Santa Ana       139\n",
       "1            Atlanta                Ankeny       920\n",
       "2            Atlanta             Paramount       471\n",
       "3            Atlanta             Fullerton       468\n",
       "4            Atlanta                Rogers       493\n",
       "5            Atlanta              Billings       201\n",
       "6            Atlanta           Tallahassee       764\n",
       "7            Atlanta           Minneapolis       819\n",
       "8            Atlanta  North Richland Hills       519\n",
       "9            Burbank               Atlanta       673\n",
       "10  North Lauderdale               Atlanta       325\n",
       "11        Long Beach               Atlanta       382\n",
       "12        Marysville               Atlanta       450\n",
       "13             Boise               Atlanta       660\n",
       "14        Hagerstown               Atlanta       236\n",
       "15        Middletown               Atlanta       404\n",
       "16     Mission Viejo               Atlanta       597\n",
       "17          Dearborn               Atlanta       190\n",
       "18           Bayonne               Atlanta       413"
      ]
     },
     "execution_count": 71,
     "metadata": {},
     "output_type": "execute_result"
    }
   ],
   "source": [
    "def get_roads_for_city(driver, city_name):\n",
    "    query = \"\"\"\n",
    "    MATCH (c1:City {name: $city_name})-[r:ROAD]->(c2:City)                                \n",
    "    RETURN c1.name AS From, c2.name AS To, r.distance AS Distance\n",
    "    UNION\n",
    "    MATCH (c1:City)-[r:ROAD]->(c2:City {name: $city_name})\n",
    "    RETURN c1.name AS From, c2.name AS To, r.distance AS Distance\n",
    "    LIMIT 10;\n",
    "    \"\"\"\n",
    "    with driver.session() as session:\n",
    "        result = session.run(query, city_name=city_name)\n",
    "        return [{\"FromCity\": record[\"From\"], \"ToCity\": record[\"To\"], \"Distance\": record[\"Distance\"]} for record in result]\n",
    "\n",
    "# Retrieve and display the results\n",
    "city_name = \"Atlanta\"\n",
    "roads = get_roads_for_city(driver, city_name)\n",
    "import pandas as pd\n",
    "roads_df = pd.DataFrame(roads)\n",
    "roads_df\n"
   ]
  },
  {
   "cell_type": "markdown",
   "id": "f4c6eb80-c7eb-4fbd-9e2b-3a73c5f50f6c",
   "metadata": {},
   "source": [
    "- **Data Representation:** The table lists cities (FromCity and ToCity) and the distances between them (Distance in miles). Each row represents a unique road connection or path between two cities. The query matched outgoing and incoming roads to and from Atlanta and a corresponding distance (in no particular order).  For instance, a road from Atlanta to Santa Ana is 139 units long and one from Bayonne to Atlanta has 413 units long.\n",
    "  \n",
    "- **Relevance to the Task:** The data showcases a small sample of a larger road network dataset. It demonstrates the relationship between cities and their connectivity, which is foundational for building a graph in Neo4j with cities as nodes and roads (with distances) as edges.\n",
    "  \n",
    "- **Insight for Import:** The data structure (columns FromCity, ToCity, and Distance) is correctly formatted for Neo4j batch processing, enabling the creation of relationships (ROAD) between nodes (City). This verifies that the dataset is suitable for importing into a graph database to analyze or visualize road connectivity.\n",
    " "
   ]
  },
  {
   "cell_type": "markdown",
   "id": "0ba22375-2811-40cf-9526-5b8be8c98cd3",
   "metadata": {},
   "source": [
    "## TASK 2: Finding Roads Longer than a 400 miles"
   ]
  },
  {
   "cell_type": "code",
   "execution_count": 166,
   "id": "f18e74e1-95f6-4ae6-a6de-22c5e7068f63",
   "metadata": {},
   "outputs": [
    {
     "name": "stdout",
     "output_type": "stream",
     "text": [
      "Total roads longer than 400 miles: 1997\n",
      "From: Fort Worth, To: Milford, Distance: 1000 miles\n",
      "From: South Bend, To: Houston, Distance: 1000 miles\n",
      "From: Lexington, To: Dayton, Distance: 1000 miles\n",
      "From: Bayonne, To: Rowlett, Distance: 1000 miles\n",
      "From: Alameda, To: Pico Rivera, Distance: 999 miles\n",
      "From: Arlington, To: Palm Beach Gardens, Distance: 999 miles\n",
      "From: Plymouth, To: Kirkland, Distance: 999 miles\n",
      "From: Altamonte Springs, To: Oak Lawn, Distance: 998 miles\n",
      "From: Raleigh, To: St. Cloud, Distance: 998 miles\n",
      "From: Fountain Valley, To: Fort Lee, Distance: 997 miles\n"
     ]
    }
   ],
   "source": [
    "def find_long_roads(min_distance):\n",
    "    # Cypher query to find roads longer than the specified minimum distance\n",
    "    # Limits the returned results to 10, but counts the total that match the criteria\n",
    "    query = \"\"\"\n",
    "    MATCH (city1:City)-[r:ROAD]->(city2:City)\n",
    "    WHERE r.distance > $min_distance\n",
    "    RETURN city1.name AS FromCity, city2.name AS ToCity, r.distance AS Distance\n",
    "    ORDER BY r.distance DESC\n",
    "    LIMIT 10\n",
    "    \"\"\"\n",
    "    \n",
    "    count_query = \"\"\"\n",
    "    MATCH (city1:City)-[r:ROAD]->(city2:City)\n",
    "    WHERE r.distance > $min_distance\n",
    "    RETURN COUNT(r) AS TotalMatchingRoads\n",
    "    \"\"\"\n",
    "    \n",
    "    with driver.session() as session:\n",
    "        result = session.run(query, min_distance=min_distance)                                          # Fetching the top 10 results\n",
    "        roads = result.data()\n",
    "        count_result = session.run(count_query, min_distance=min_distance)                              # Fetching the count of all roads meeting the criteria\n",
    "        total_matching = count_result.single()[\"TotalMatchingRoads\"]\n",
    "        print(f\"Total roads longer than {min_distance} miles: {total_matching}\")                           # Printing the total count of matching roads\n",
    "        \n",
    "        for road in roads:                                                                              # Printing the details of the first 10 matching roads\n",
    "            print(f\"From: {road['FromCity']}, To: {road['ToCity']}, Distance: {road['Distance']} miles\")\n",
    "\n",
    "find_long_roads(400)                                                                                    # Call function for roads longer than 100 km"
   ]
  },
  {
   "cell_type": "markdown",
   "id": "95b2da70-8d3b-4035-a963-9749c91c2f40",
   "metadata": {},
   "source": [
    "- **What the Code Did:** The code queried the Neo4j graph for roads with a distance greater than 400 km. We opted for 400km for meaningful results as by default our dataset distance starts at 100 so all observations would have met the criteria thus not meaningless for analysis. The code fetched the top 10 longest roads and counted how many roads met the criteria.\n",
    "\n",
    "- **Total Count:** The result shows there are 1997 roads longer than 400 km, consistent with the raw data and attached Cypher output after ensuring only distinct edges (avoiding duplicates in both directions).\n",
    "\n",
    "- **Top 10 Roads:** The output displays the FromCity, ToCity, and Distance for the top 10 longest roads, with distances ranging from 997 km to 1000 km. For example, the longest road is between Fort Worth and Milford, with a distance of 1000 km."
   ]
  },
  {
   "cell_type": "markdown",
   "id": "12a20c71-7df5-4493-9e53-8704d97ca8d2",
   "metadata": {},
   "source": [
    "## TASK 3: Number of Roads Connected to a Specific City (Washington, Phoenix, North Miami)"
   ]
  },
  {
   "cell_type": "code",
   "execution_count": 77,
   "id": "f4122ed5-e265-4bcb-b957-7cc7f9a98265",
   "metadata": {},
   "outputs": [
    {
     "name": "stdout",
     "output_type": "stream",
     "text": [
      "Total roads connected to Washington: 32\n",
      "Total roads connected to Phoenix: 24\n",
      "Total roads connected to North Miami: 32\n"
     ]
    }
   ],
   "source": [
    "def count_roads_for_city(city_name):\n",
    "    query = \"\"\"\n",
    "    MATCH (city:City {name: $city_name})-[r:ROAD]-(connected_city:City)\n",
    "    RETURN COUNT(r) AS RoadCount\n",
    "    \"\"\"\n",
    "    with driver.session() as session:\n",
    "        result = session.run(query, city_name=city_name)\n",
    "        road_count = result.single()[\"RoadCount\"]\n",
    "        print(f\"Total roads connected to {city_name}: {road_count}\")\n",
    "\n",
    "                                                                                          # Counting roads for Washington, Phoenix, and North Miami\n",
    "count_roads_for_city(\"Washington\")\n",
    "count_roads_for_city(\"Phoenix\")\n",
    "count_roads_for_city(\"North Miami\")\n"
   ]
  },
  {
   "cell_type": "markdown",
   "id": "a4b87c3f-7393-4f22-b5c8-e096fc7dcad2",
   "metadata": {},
   "source": [
    "- **Why count both directions:** Roads (or connections) to a city can be both incoming (roads leading to the city) and outgoing (roads leaving the city). Both types of connections represent valid relationships in the network.\n",
    "  \n",
    "- **How the code worked:** The code used Cypher queries to count the total number of road connections (both incoming and outgoing) for specific cities (Washington, Phoenix, and North Miami) in a graph database. It matched the cities to their connected roads, counting the relationships (edges) that linked them to other cities in the network, regardless of direction.\n",
    "  \n",
    "- **Output**: The results showed the following number of total connections: 32 for Washington, 24 for Phoenix, and 32 for North Miami, indicating the total roads connecting each city to others in the dataset."
   ]
  },
  {
   "cell_type": "markdown",
   "id": "6d5b453d-90b4-4bf7-b8ca-39024795ff30",
   "metadata": {},
   "source": [
    "## TASK 4: Finding Cities Connected to Memphis with a Distance Below 300km"
   ]
  },
  {
   "cell_type": "code",
   "execution_count": 168,
   "id": "1bb947cd-81c1-455c-84b9-3c192e62754e",
   "metadata": {},
   "outputs": [
    {
     "name": "stdout",
     "output_type": "stream",
     "text": [
      "Connected City: Apple Valley, Distance: 126 miles\n",
      "Connected City: Palatine, Distance: 164 miles\n",
      "Connected City: San Ramon, Distance: 172 miles\n",
      "Connected City: Sanford, Distance: 236 miles\n",
      "Connected City: Boise, Distance: 239 miles\n",
      "Connected City: Mansfield, Distance: 299 miles\n",
      "Connected City: Bozeman, Distance: 299 miles\n"
     ]
    }
   ],
   "source": [
    "def find_nearby_cities(city_name, max_distance):\n",
    "    query = \"\"\"\n",
    "    MATCH (city:City {name: $city_name})-[r:ROAD]->(connected_city:City)\n",
    "    WHERE r.distance < $max_distance\n",
    "    RETURN connected_city.name AS ConnectedCity, r.distance AS Distance\n",
    "    ORDER BY r.distance\n",
    "    \"\"\"\n",
    "    \n",
    "    with driver.session() as session:\n",
    "        result = session.run(query, city_name=city_name, max_distance=max_distance)\n",
    "        for record in result:\n",
    "            print(f\"Connected City: {record['ConnectedCity']}, Distance: {record['Distance']} miles\")\n",
    "\n",
    "find_nearby_cities(\"Memphis\", 300)                                                   # Finding cities connected to Memphis with roads shorter than 300 km"
   ]
  },
  {
   "cell_type": "markdown",
   "id": "e0a6b640-395d-4905-9f9a-56fc579b4d0c",
   "metadata": {},
   "source": [
    "- **Connected Cities:** The output lists cities directly connected to a specific city (e.g., San Francisco), where the connection is made via a road that has a distance less than 300 km. The cities are shown along with the respective distance in kilometers.\n",
    "\n",
    "- **Output**: This code allows you to query and display specific connections between cities based on the road distance, which is useful for analyzing proximity or building network maps between locations. For instance connected city Apple Valley has the shortest distance from Memphis at 126km hence in close proximity ahead of other cities. The other cities listed (San Ramon, Sanford, Boise, Mansfield, Bozeman) are similarly connected by roads shorter than 300 km."
   ]
  },
  {
   "cell_type": "markdown",
   "id": "e915a001-4d6d-4662-ac61-92addf16b933",
   "metadata": {},
   "source": [
    "## TASK 5: Listing All Roads Leading To Los Angeles."
   ]
  },
  {
   "cell_type": "code",
   "execution_count": 174,
   "id": "b96c12f6-06ed-4104-b45c-8c76d94cb80b",
   "metadata": {},
   "outputs": [
    {
     "name": "stdout",
     "output_type": "stream",
     "text": [
      "From: Bayonne, Distance: 996 miles\n",
      "From: Las Vegas, Distance: 944 miles\n",
      "From: Bartlett, Distance: 828 miles\n",
      "From: South Bend, Distance: 284 miles\n",
      "From: Euless, Distance: 138 miles\n",
      "From: Severn, Distance: 109 miles\n"
     ]
    }
   ],
   "source": [
    "def list_roads_to_city(target_city):\n",
    "    query = \"\"\"\n",
    "    MATCH (city:City)-[r:ROAD]->(target_city:City {name: $target_city})\n",
    "    RETURN city.name AS FromCity, r.distance AS Distance\n",
    "    ORDER BY r.distance DESC\n",
    "    \"\"\"\n",
    "    with driver.session() as session:\n",
    "        result = session.run(query, target_city=target_city)\n",
    "        roads = result.data()\n",
    "        for road in roads:\n",
    "            print(f\"From: {road['FromCity']}, Distance: {road['Distance']} miles\")\n",
    "\n",
    "list_roads_to_city('Los Angeles')                                                      # Listing all roads leading to Los Angeles"
   ]
  },
  {
   "cell_type": "markdown",
   "id": "22e72193-5a1c-4265-b462-69d63bdaaf84",
   "metadata": {},
   "source": [
    "- **Condition**: The query matches all cities (city) that have a ROAD relationship pointing to \"Los Angeles\" (target city). The RETURN clause displays the names of cities that lead to Los Angeles, along with the distances of the roads.The results are ordered by the distance of the road in descending order (ORDER BY r.distance DESC).\n",
    "\n",
    "- Bayonne is connected to Los Angeles by a road that is 996 km long and Severn (109 km) is the shortest connection listed. This type of query can be useful for visualizing transportation networks or understanding city connectivity flows into Los Angeles. It shows how cities are flows into LA, including both close and long-distance routes."
   ]
  },
  {
   "cell_type": "markdown",
   "id": "4a2266b1-e8ba-4b2c-a36a-ce68327ad43f",
   "metadata": {},
   "source": [
    "## TASK 6: The Total Distance Of All Roads Connected to Memphis."
   ]
  },
  {
   "cell_type": "code",
   "execution_count": 176,
   "id": "c5571369-5520-4995-bcf3-1586ff48ba24",
   "metadata": {},
   "outputs": [
    {
     "name": "stdout",
     "output_type": "stream",
     "text": [
      "Total Distance of all roads connected to Memphis: 17832 miles\n",
      "Total number of connections to Memphis: 34\n"
     ]
    }
   ],
   "source": [
    "def calculate_total_distance_and_connections(city_name):\n",
    "    query = \"\"\"\n",
    "    MATCH (city:City {name: $city_name})-[r:ROAD]-(connected_city:City)\n",
    "    RETURN SUM(r.distance) AS TotalDistance, COUNT(r) AS TotalConnections\n",
    "    \"\"\"\n",
    "    with driver.session() as session:\n",
    "        result = session.run(query, city_name=city_name)\n",
    "        record = result.single()\n",
    "        total_distance = record[\"TotalDistance\"]\n",
    "        total_connections = record[\"TotalConnections\"]\n",
    "        print(f\"Total Distance of all roads connected to {city_name}: {total_distance} miles\")\n",
    "        print(f\"Total number of connections to {city_name}: {total_connections}\")\n",
    "\n",
    "calculate_total_distance_and_connections(\"Memphis\")"
   ]
  },
  {
   "cell_type": "markdown",
   "id": "273c1061-727c-448e-ba3c-1c13e3618fba",
   "metadata": {},
   "source": [
    "- **Total Distance of all roads connected to Memphis: 17832 km:** This result represents the total length of all roads (in kilometers) that are directly connected to the city of Memphis. The roads may lead to or come from Memphis, encompassing all connecting paths.\n",
    "\n",
    "- **Total number of connections to Memphis: 34:** This number indicates how many direct road connections (edges) Memphis has with other cities in the database. It counts each unique road link, regardless of whether the road leads to Memphis or originates from it.\n",
    "\n",
    "- These results answer the task by quantifying the connectivity of Memphis, both in terms of total distance and number of roads connecting the city to others. This is useful for understanding Memphis's role in the broader network of cities and its accessibility via road infrastructure."
   ]
  },
  {
   "cell_type": "markdown",
   "id": "82a01936-3bab-4579-ada4-67c40fe2084e",
   "metadata": {},
   "source": [
    "## TASK7: Shortest Road Between Las Vegas and Houston"
   ]
  },
  {
   "cell_type": "code",
   "execution_count": 178,
   "id": "e2fa32e5-e1e1-4ec6-a408-2946ee9398e0",
   "metadata": {},
   "outputs": [
    {
     "name": "stdout",
     "output_type": "stream",
     "text": [
      "Shortest road from Las Vegas to Houston is 370 miles\n"
     ]
    }
   ],
   "source": [
    "def find_shortest_road(city1, city2):\n",
    "    query = \"\"\"\n",
    "    MATCH (city1:City {name: $city1})-[r:ROAD]-(city2:City {name: $city2})\n",
    "    RETURN city1.name AS FromCity, city2.name AS ToCity, MIN(r.distance) AS ShortestDistance\n",
    "    \"\"\"\n",
    "    with driver.session() as session:\n",
    "        result = session.run(query, city1=city1, city2=city2)\n",
    "        road = result.single()\n",
    "        if road:\n",
    "            print(f\"Shortest road from {road['FromCity']} to {road['ToCity']} is {road['ShortestDistance']} miles\")\n",
    "\n",
    "find_shortest_road(\"Las Vegas\", \"Houston\")"
   ]
  },
  {
   "cell_type": "markdown",
   "id": "bf9d8f03-9b75-45ec-aa8e-465c7466ad0b",
   "metadata": {},
   "source": [
    "- **Shortest Road:** This output displays the shortest road between Las Vegas and Houston as 370km, showing both the starting city (\"FromCity\"), destination city (\"ToCity\"), and the minimum distance (in kilometers). This approach ensures you get the minimal distance among all direct roads between the two cities, which is essential for optimizing travel routes or infrastructure planning."
   ]
  },
  {
   "cell_type": "markdown",
   "id": "97653299-3f40-49a5-8472-51cae1836c81",
   "metadata": {},
   "source": [
    "## TASK8: Cities Directly Connected to Both Philadelphia and Seattle"
   ]
  },
  {
   "cell_type": "code",
   "execution_count": 92,
   "id": "eb6d4a64-b194-44a2-9ad5-4e431e6a5d4a",
   "metadata": {},
   "outputs": [
    {
     "name": "stdout",
     "output_type": "stream",
     "text": [
      "Connected city: Fargo\n",
      "Connected city: Scottsdale\n",
      "Connected city: Mansfield\n",
      "Connected city: Gainesville\n",
      "Connected city: Bentonville\n",
      "Connected city: Palmdale\n",
      "Connected city: Mesa\n",
      "Connected city: Marietta\n",
      "Connected city: Anaheim\n"
     ]
    }
   ],
   "source": [
    "def find_cities_connected_to_both(city1, city2):\n",
    "    query = \"\"\"\n",
    "    MATCH (city1:City {name: $city1})-[:ROAD]-(connected_city:City)-[:ROAD]-(city2:City {name: $city2})\n",
    "    RETURN connected_city.name AS ConnectedCity\n",
    "    \"\"\"\n",
    "    with driver.session() as session:\n",
    "        result = session.run(query, city1=city1, city2=city2)\n",
    "        connected_cities = result.data()\n",
    "        for city in connected_cities:\n",
    "            print(f\"Connected city: {city['ConnectedCity']}\")\n",
    "\n",
    "find_cities_connected_to_both(\"Philadelphia\", \"Seattle\")"
   ]
  },
  {
   "cell_type": "markdown",
   "id": "f563baa1-4607-48d4-9e39-11af34cafdbf",
   "metadata": {},
   "source": [
    "- The cities above serve as intersections in the network of roads that link Philadelphia and Seattle. The query in Cypher successfully identified all the cities that share roads with both Philadelphia and Seattle, making it useful for analyzing transportation routes or connectivity within a network. In essence, the query ensures you identify cities that play a central role in connecting different regions, making it an essential tool for transportation or network analysis."
   ]
  },
  {
   "cell_type": "markdown",
   "id": "abf4f92b-ada2-45cb-b90c-04a005726421",
   "metadata": {},
   "source": [
    "## TASK9: Cities with More Than 3 Direct Connections and Their Connections"
   ]
  },
  {
   "cell_type": "code",
   "execution_count": 95,
   "id": "183a2c16-a246-474a-83f1-f027b54c2640",
   "metadata": {},
   "outputs": [
    {
     "name": "stdout",
     "output_type": "stream",
     "text": [
      "City: Arlington\n",
      "Connections: Kansas City, Long Beach, Cedar Hill, Phoenix, Dearborn, Bristol, Baldwin Park, Gainesville, Washington, Lehi, Little Elm, Henderson, Round Rock, Paramount, Palatine, Victoria, Simi Valley, Bakersfield, Daly City, San Bruno, Goodyear, Lawrence, Tulsa, Blaine, West Sacramento, Dubuque, Palm Beach Gardens, North Las Vegas, St. Peters, Fort Collins, Plymouth, South Bend, Los Angeles, San Leandro, Fort Worth, Fargo, Scottsdale, St. Louis, Newark, Rancho Palos Verdes, Greeley, Sterling Heights, St. George, Apple Valley, Roseville, Pomona, Eden Prairie, Rowlett, DeKalb\n",
      "Total Connections: 49\n",
      "------------------------------\n",
      "City: Mission Viejo\n",
      "Connections: Hayward, Santa Ana, Lacey, Springfield, Long Beach, Oak Lawn, Pico Rivera, Columbia, Hagerstown, Escondido, Atlanta, Dayton, Baldwin Park, Irving, Fremont, Madison, Keller, Bell Gardens, Baton Rouge, Mobile, Henderson, Centennial, White Plains, Schertz, Simi Valley, Reno, Toledo, Lawrence, Chino, Mesa, Tallahassee, Citrus Heights, Dubuque, St. Peters, Fort Collins, Plymouth, Fort Worth, San Jose, Murfreesboro, St. Louis, St. George, Apple Valley, Mansfield, Pomona, Raleigh, Carpentersville, Las Vegas\n",
      "Total Connections: 47\n",
      "------------------------------\n",
      "City: Lexington\n",
      "Connections: San Ramon, Kansas City, Santa Ana, Fort Worth, Buffalo, Petaluma, Scottsdale, Boise, Hagerstown, Greeley, Sterling Heights, St. George, Maricopa, Dayton, North Miami, Baldwin Park, Fremont, Gilbert, Methuen, Raleigh, Keller, Fontana, Conroe, Green Bay, Peoria, Mobile, San Angelo, Fort Lee, Jefferson City, Victoria, Simi Valley, Bakersfield, Tampa, Tulsa, Norwalk, Kirkland, Shoreline, Palm Beach Gardens, Wheaton, St. Peters, Florence, Downey, Amarillo, Anaheim, San Clemente\n",
      "Total Connections: 45\n",
      "------------------------------\n",
      "City: Fort Worth\n",
      "Connections: Kansas City, Fort Collins, Arlington, Riverton, Springfield, Kokomo, Lauderhill, Scottsdale, Boise, New Orleans, Hagerstown, Mission Viejo, Rancho Palos Verdes, Goose Creek, Fresno, Bristol, Gainesville, Bloomington, Keller, Rockville, Conroe, San Francisco, Arcadia, Palatine, Jefferson City, Victoria, Toledo, Mesa, Maplewood, El Monte, Milford, West Sacramento, North Richland Hills, Houston, Burbank, North Lauderdale, Sterling Heights, Euless, Carpentersville, Laredo, Lexington, Chico, Auburn\n",
      "Total Connections: 43\n",
      "------------------------------\n",
      "City: Henderson\n",
      "Connections: Billings, Marietta, Monterey Park, Arlington, South Bend, Burbank, Severn, Fargo, Petaluma, Marysville, Mission Viejo, Phoenix, Escondido, St. George, Sunnyvale, Bristol, Euless, Elk Grove, Fremont, Anaheim, Pomona, Methuen, Raleigh, Carpentersville, Modesto, Eden Prairie, Rockville, Fontana, Alameda, Washington, Baton Rouge, New Brunswick, West Jordan, San Angelo, Fort Lee, Bentonville, Arcadia, Jefferson City, Victoria, Valdosta, Palmdale, Bozeman\n",
      "Total Connections: 42\n",
      "------------------------------\n",
      "City: Paramount\n",
      "Connections: Miramar, West Jordan, White Plains, Reno, Tulsa, Kirkland, Tallahassee, Shoreline, North Las Vegas, San Ramon, Nashville, Arlington, Springfield, Buffalo, Fargo, Marysville, Pico Rivera, Mount Prospect, Rancho Palos Verdes, Lincoln, Bartlett, Atlanta, Hampton, Maricopa, Euless, Irving, San Bernardino, San Clemente, Raleigh, Modesto, Rockville, Conroe, Green Bay, St. Paul, Boulder, Centennial, San Francisco, Bentonville, Valdosta, Chesapeake, Daly City, Chino\n",
      "Total Connections: 42\n",
      "------------------------------\n",
      "City: North Lauderdale\n",
      "Connections: Houston, Fort Collins, Monterey Park, Memphis, San Leandro, Fort Worth, Springfield, Florence, Lauderhill, Boise, New Orleans, Newark, Downey, Atlanta, Hampton, Apple Valley, Bayonne, North Miami, Roseville, Baldwin Park, Raleigh, Bloomington, St. Paul, New Brunswick, Somerville, Palatine, Valdosta, Reno, Broken Arrow, Palmdale, Rogers, Carrollton, Chino, Austin, Spokane, Bozeman, Wheaton, Clearwater, St. Louis, Bartlett, Carpentersville\n",
      "Total Connections: 41\n",
      "------------------------------\n",
      "City: Maricopa\n",
      "Connections: San Ramon, Lauderhill, Boise, Escondido, Dearborn, North Miami, Madison, Keller, Mobile, Garland, Ankeny, Boulder, San Angelo, Paramount, Simi Valley, Bakersfield, Broken Arrow, Chesapeake, Goodyear, Blaine, Kirkland, West Sacramento, Hialeah, North Las Vegas, Wheaton, Edmonds, St. Peters, Plymouth, Sanford, Florence, Scottsdale, Grapevine, St. Louis, New Orleans, Newark, Sterling Heights, Apple Valley, Elk Grove, Eden Prairie, Lexington, West Valley City\n",
      "Total Connections: 41\n",
      "------------------------------\n",
      "City: Apple Valley\n",
      "Connections: Arlington, Santa Ana, Severn, Long Beach, Kokomo, Pico Rivera, Hagerstown, Cedar Hill, Mount Prospect, Mission Viejo, Shelton, Hampton, Maricopa, Carlsbad, Irving, Fremont, Mansfield, Mason, San Clemente, St. Paul, Baton Rouge, Mobile, Somerville, Fort Lee, Bentonville, West Valley City, San Bruno, Toledo, Austin, Milford, St. Cloud, Dubuque, Minneapolis, Wheaton, Plymouth, Monterey Park, Memphis, North Lauderdale, Carpentersville, Las Vegas\n",
      "Total Connections: 40\n",
      "------------------------------\n",
      "City: Kokomo\n",
      "Connections: Kansas City, Santa Ana, Oak Lawn, Petaluma, Rosemead, Philadelphia, Lincoln, Dearborn, Miramar, Baldwin Park, Meridian, Palatine, Reno, Daly City, Mesa, Blaine, Austin, Dubuque, Spokane, Edmonds, Memphis, Gardena, Burbank, Fort Worth, Long Beach, Lauderhill, Scottsdale, Apple Valley, Sunnyvale, Surprise, Amarillo, Elk Grove, Mansfield, San Bernardino, Pomona, San Clemente, St. Paul, Boulder, Auburn\n",
      "Total Connections: 39\n",
      "------------------------------\n"
     ]
    }
   ],
   "source": [
    "def get_cities_with_multiple_connections():\n",
    "    query = \"\"\"\n",
    "    MATCH (city:City)-[:ROAD]-(connected_city:City)\n",
    "    WITH city, COLLECT(connected_city) AS connections\n",
    "    WHERE SIZE(connections) > 3\n",
    "    RETURN city.name AS City, [connected IN connections | connected.name] AS Connections, SIZE(connections) AS num_connections\n",
    "    ORDER BY num_connections DESC\n",
    "    LIMIT 10\n",
    "    \"\"\"\n",
    "    \n",
    "    with driver.session() as session:\n",
    "        result = session.run(query)\n",
    "        for record in result:\n",
    "            print(f\"City: {record['City']}\")\n",
    "            print(f\"Connections: {', '.join(record['Connections'])}\")\n",
    "            print(f\"Total Connections: {record['num_connections']}\")\n",
    "            print(\"-\" * 30)\n",
    "            \n",
    "get_cities_with_multiple_connections()"
   ]
  },
  {
   "cell_type": "markdown",
   "id": "364d21e3-c9db-4f4a-ab7f-0fd5b32f03b3",
   "metadata": {},
   "source": [
    "- The query first matches cities and their connected cities with roads. It then counts the number of direct connections for each city. Cities with more than 3 connections are filtered. The COLLECT() function is used to gather all connected cities for each city that meets the criteria. The results are returned in descending order of the number of connections.\n",
    "\n",
    "- **LIMIT 10:** The LIMIT 10 at the end of the Cypher query ensures that only the top 10 cities with the most connections (more than 3) are returned. Python Execution: The Python code will execute the query and print out the results for the top 10 cities, listing each city’s name, its connected cities, and the total number of connections."
   ]
  },
  {
   "cell_type": "markdown",
   "id": "39794471-02d2-472a-ae89-f84e5eb023b2",
   "metadata": {},
   "source": [
    "## TASK10: Total Distance Of All Connections In The Network"
   ]
  },
  {
   "cell_type": "code",
   "execution_count": 180,
   "id": "bae1ad8e-3be9-4390-875b-6053604ca40c",
   "metadata": {},
   "outputs": [
    {
     "name": "stdout",
     "output_type": "stream",
     "text": [
      "Total Distance of All Roads: 1644013 miles\n"
     ]
    }
   ],
   "source": [
    "def calculate_total_distance():\n",
    "    query = \"\"\"\n",
    "    MATCH (:City)-[r:ROAD]->(:City)\n",
    "    RETURN SUM(r.distance) AS Total_Distance\n",
    "    \"\"\"\n",
    "    \n",
    "    with driver.session() as session:\n",
    "        result = session.run(query)\n",
    "        for record in result:\n",
    "            print(f\"Total Distance of All Roads: {record['Total_Distance']} miles\")\n",
    "\n",
    "calculate_total_distance()"
   ]
  },
  {
   "cell_type": "markdown",
   "id": "c1448c2c-d150-403f-8904-8b1b1d058fbf",
   "metadata": {},
   "source": [
    "- The query matches all ROAD relationships between cities, regardless of the direction. It then aggregates (SUM()) the distance property of each ROAD relationship. The result is the total distance of all connections in the network.\n",
    "\n",
    "- The output, **\"Total Distance of All Roads: 1,644,013 km\",** represents the cumulative distance of all road connections in the dataset. It is the sum of all distances between cities connected by roads in the graph database, calculated by aggregating the distance property of all ROAD relationships. This total is an indicator of the overall road network's size, measured in kilometers."
   ]
  },
  {
   "cell_type": "markdown",
   "id": "7a7937ae-f027-4078-9b97-b48f025292d1",
   "metadata": {},
   "source": [
    "# EXTRA CREDIT QUESTIONS"
   ]
  },
  {
   "cell_type": "markdown",
   "id": "f6c8501a-ad50-4ab8-9c60-5b0e4eb281ea",
   "metadata": {},
   "source": [
    "## 1. Identifying Cities with Exactly Two Connections"
   ]
  },
  {
   "cell_type": "code",
   "execution_count": 124,
   "id": "d7ccf1f7-803c-4198-8ed1-d4f7039e8f4a",
   "metadata": {},
   "outputs": [],
   "source": [
    "def find_cities_with_two_connections(driver):\n",
    "    query = \"\"\"\n",
    "    MATCH (c:City)\n",
    "    OPTIONAL MATCH (c)-[:ROAD]->(outgoing:City)\n",
    "    OPTIONAL MATCH (incoming:City)-[:ROAD]->(c)\n",
    "    WITH c, \n",
    "         COLLECT(DISTINCT outgoing.name) AS OutgoingCities, \n",
    "         COLLECT(DISTINCT incoming.name) AS IncomingCities\n",
    "    WHERE SIZE(OutgoingCities) + SIZE(IncomingCities) = 2\n",
    "    RETURN c.name AS City, OutgoingCities, IncomingCities\n",
    "    \"\"\"\n",
    "    with driver.session() as session:\n",
    "        result = session.run(query)\n",
    "        records_found = False\n",
    "        for record in result:\n",
    "            records_found = True\n",
    "            print(f\"City: {record['City']}\")\n",
    "            print(f\"Outgoing Cities: {record['OutgoingCities']}\")\n",
    "            print(f\"Incoming Cities: {record['IncomingCities']}\\n\")\n",
    "        if not records_found:\n",
    "            print(\"No cities with exactly two connections were found.\")"
   ]
  },
  {
   "cell_type": "markdown",
   "id": "4c3e8cc2-d19e-4712-92fd-e5994143c157",
   "metadata": {},
   "source": [
    "- **The code identifies** cities with exactly two direct connections (one incoming and one outgoing, or two of the same type). It aggregates connected cities using COLLECT() and filters cities where the total number of connections equals 2. The final results display the city name and its two connected cities.\n",
    "\n",
    "- **Reason for No Output**\n",
    "The dataset configuration ensures every city has at least 15 connections, so no city satisfies the condition of having exactly two connections. Since Neo4j's RETURN statement does not find any matches, it outputs nothing rather than a zero or placeholder value. Neo4j only returns records that match the query conditions. If no matches exist, the Python result iterator contains no elements, so the for loop does not execute, and no output is printed."
   ]
  },
  {
   "cell_type": "code",
   "execution_count": 139,
   "id": "28025a7e-2964-4a29-afe6-04eecc26afc4",
   "metadata": {},
   "outputs": [
    {
     "name": "stdout",
     "output_type": "stream",
     "text": [
      "City: Miramar, Outgoing Connections: 2\n",
      "City: West Haven, Outgoing Connections: 2\n",
      "City: Spokane, Outgoing Connections: 2\n",
      "City: North Las Vegas, Outgoing Connections: 2\n"
     ]
    }
   ],
   "source": [
    "def find_cities_with_two_connections():\n",
    "    query = \"\"\"\n",
    "    MATCH (c:City)-[r:ROAD]->()\n",
    "    WITH c, COUNT(*) AS outgoingConnections\n",
    "    WHERE outgoingConnections = 2\n",
    "    RETURN c.name AS City, outgoingConnections\n",
    "    \"\"\"\n",
    "    \n",
    "    with driver.session() as session:\n",
    "        result = session.run(query)\n",
    "        for record in result:\n",
    "            print(f\"City: {record['City']}, Outgoing Connections: {record['outgoingConnections']}\")\n",
    "\n",
    "find_cities_with_two_connections()\n"
   ]
  },
  {
   "cell_type": "code",
   "execution_count": 143,
   "id": "a3f78089-ac48-491b-80c5-51e3c983e3f4",
   "metadata": {},
   "outputs": [
    {
     "name": "stdout",
     "output_type": "stream",
     "text": [
      "City: St. Louis, Incoming Connections: 2\n",
      "City: Las Vegas, Incoming Connections: 2\n"
     ]
    }
   ],
   "source": [
    "def find_cities_with_two_incoming_connections():\n",
    "    query = \"\"\"\n",
    "    MATCH (c:City)<-[r:ROAD]-()\n",
    "    WITH c, COUNT(*) AS incomingConnections\n",
    "    WHERE incomingConnections = 2\n",
    "    RETURN c.name AS City, incomingConnections\n",
    "    \"\"\"\n",
    "    \n",
    "    with driver.session() as session:\n",
    "        result = session.run(query)\n",
    "        for record in result:\n",
    "            print(f\"City: {record['City']}, Incoming Connections: {record['incomingConnections']}\")\n",
    "\n",
    "find_cities_with_two_incoming_connections()"
   ]
  },
  {
   "cell_type": "markdown",
   "id": "7ddfb38e-5fae-4adf-a79e-d3f96c006c03",
   "metadata": {},
   "source": [
    "- Although we don't have cities with exactly 2 total connections (combined incoming and outgoing or total either or). We do however have cities with 2 outgoing connections and 2 incoming connections as shown on 2 outputs above.\n",
    "\n",
    "- These results reflect the cities in the dataset that have 2 outgoing or incoming connections. The absence of cities with exactly 2 total connections (whether incoming, outgoing, or both) is due to the dataset configuration, where most cities have at least 15 connections."
   ]
  },
  {
   "cell_type": "markdown",
   "id": "7150e85e-4779-4fd5-aa86-e01e8bb4dbcc",
   "metadata": {},
   "source": [
    "## 2. Cities with Both Incoming and Outgoing Connections"
   ]
  },
  {
   "cell_type": "code",
   "execution_count": 159,
   "id": "38785c58-dd32-407b-a220-982e0a3d7784",
   "metadata": {},
   "outputs": [
    {
     "name": "stdout",
     "output_type": "stream",
     "text": [
      "City: Arlington, Outgoing Connections: 28, Incoming Connections: 21\n",
      "City: Mission Viejo, Outgoing Connections: 33, Incoming Connections: 14\n",
      "City: Lexington, Outgoing Connections: 39, Incoming Connections: 6\n",
      "City: Fort Worth, Outgoing Connections: 33, Incoming Connections: 10\n",
      "City: Henderson, Outgoing Connections: 1, Incoming Connections: 41\n",
      "City: Paramount, Outgoing Connections: 9, Incoming Connections: 33\n",
      "City: North Lauderdale, Outgoing Connections: 37, Incoming Connections: 4\n",
      "City: Maricopa, Outgoing Connections: 25, Incoming Connections: 16\n",
      "City: Apple Valley, Outgoing Connections: 34, Incoming Connections: 6\n",
      "City: Kokomo, Outgoing Connections: 19, Incoming Connections: 20\n"
     ]
    }
   ],
   "source": [
    "import warnings\n",
    "import logging\n",
    "\n",
    "warnings.filterwarnings(\"ignore\", message=\".*AggregationSkippedNull.*\")\n",
    "logging.basicConfig(level=logging.ERROR)\n",
    "\n",
    "def find_cities_with_incoming_and_outgoing_connections():\n",
    "    query = \"\"\"\n",
    "    MATCH (c:City)\n",
    "    OPTIONAL MATCH (c)-[r1:ROAD]->()  // Outgoing roads\n",
    "    OPTIONAL MATCH (c)<-[r2:ROAD]-()  // Incoming roads\n",
    "    WITH c, \n",
    "         COUNT(DISTINCT r1) AS outgoingConnections, \n",
    "         COUNT(DISTINCT r2) AS incomingConnections\n",
    "    WHERE outgoingConnections > 0 AND incomingConnections > 0\n",
    "    RETURN c.name AS City, outgoingConnections, incomingConnections\n",
    "    ORDER BY outgoingConnections + incomingConnections DESC\n",
    "    LIMIT 10\n",
    "    \"\"\"\n",
    "    \n",
    "    with driver.session() as session:\n",
    "        result = session.run(query)\n",
    "        for record in result:\n",
    "            print(f\"City: {record['City']}, Outgoing Connections: {record['outgoingConnections']}, Incoming Connections: {record['incomingConnections']}\")\n",
    "\n",
    "find_cities_with_incoming_and_outgoing_connections()"
   ]
  },
  {
   "cell_type": "markdown",
   "id": "c9821165-d015-46e0-a597-3ebde90e878b",
   "metadata": {},
   "source": [
    "- **COUNT(DISTINCT r1) and COUNT(DISTINCT r2):** This ensures that we are counting distinct roads for outgoing and incoming connections. If the same road is counted both as outgoing and incoming for the same city, it won't be double-counted. **OPTIONAL MATCH:** We still use OPTIONAL MATCH to include cities with no connections in either direction (in case they exist). **WHERE outgoingConnections > 0 AND incomingConnections > 0:** This ensures that only cities with at least one incoming and one outgoing connection are included in the results.\n",
    "  \n",
    "- **We returned cities with distinct incoming and outgoing connections.** The number of outgoing and incoming connections for each city will reflected different sets of connections, rather than being equal unless the city's connections are symmetric. **LIMT 10**"
   ]
  },
  {
   "cell_type": "markdown",
   "id": "9e7a034c-bff9-4251-84ba-c49c2d9af65b",
   "metadata": {},
   "source": [
    "## 3. Top 3 Pairs of Cities with the Longest Direct Distances"
   ]
  },
  {
   "cell_type": "code",
   "execution_count": 164,
   "id": "e5eb96e8-7d6c-491d-a1ad-b2de49b422b2",
   "metadata": {},
   "outputs": [
    {
     "name": "stdout",
     "output_type": "stream",
     "text": [
      "Start City: Lexington, End City: Dayton, Distance: 1000 miles\n",
      "Start City: South Bend, End City: Houston, Distance: 1000 miles\n",
      "Start City: Bayonne, End City: Rowlett, Distance: 1000 miles\n"
     ]
    }
   ],
   "source": [
    "def find_top_3_longest_connections():\n",
    "    query = \"\"\"\n",
    "    MATCH (start:City)-[r:ROAD]->(end:City)\n",
    "    RETURN start.name AS StartCity, end.name AS EndCity, r.distance AS Distance\n",
    "    ORDER BY r.distance DESC\n",
    "    LIMIT 3\n",
    "    \"\"\"\n",
    "    \n",
    "    with driver.session() as session:\n",
    "        result = session.run(query)\n",
    "        for record in result:\n",
    "            print(f\"Start City: {record['StartCity']}, End City: {record['EndCity']}, Distance: {record['Distance']} miles\")\n",
    "\n",
    "find_top_3_longest_connections()"
   ]
  },
  {
   "cell_type": "markdown",
   "id": "340e9c3c-d448-4ae9-97ea-ab42137b194f",
   "metadata": {},
   "source": [
    "- This code **matches all roads connecting cities**. It assumes that the City nodes are connected by ROAD relationships, with **r.distance being the road's distance between the cities**. Then returns the names of the start and end cities along with the distance between them. Then orders the results by the distance, from the longest to the shortest.\n",
    "- The output limits the result to the top 3 city pairs with the longest distances as shown in the output. This output can also be verified with output from Task 2 where we listed cities longer than 400 miles, lexington to Dayton, South Bend to Houston, and Bayonne to Rowlett are longest direct distances with 1000 miles"
   ]
  },
  {
   "cell_type": "markdown",
   "id": "f96e518f-86a6-481f-a67c-4c43a0e39136",
   "metadata": {},
   "source": [
    "# OVERALL ANALYSIS AND OBSERVATIONS"
   ]
  },
  {
   "cell_type": "markdown",
   "id": "2ee3f7f5-a210-458b-b846-1ab08831b5fe",
   "metadata": {},
   "source": [
    "- **WE HAVE ATTACHED A SEPERATE FILE WITH OUR OVERALL ANALYSIS AND OBSERSATIONS FOR YOU EASE ACCESS**"
   ]
  },
  {
   "cell_type": "code",
   "execution_count": null,
   "id": "b3052b32-597c-4a3f-b38a-f691c785ce78",
   "metadata": {},
   "outputs": [],
   "source": []
  }
 ],
 "metadata": {
  "kernelspec": {
   "display_name": "Python 3 (ipykernel)",
   "language": "python",
   "name": "python3"
  },
  "language_info": {
   "codemirror_mode": {
    "name": "ipython",
    "version": 3
   },
   "file_extension": ".py",
   "mimetype": "text/x-python",
   "name": "python",
   "nbconvert_exporter": "python",
   "pygments_lexer": "ipython3",
   "version": "3.12.3"
  }
 },
 "nbformat": 4,
 "nbformat_minor": 5
}
